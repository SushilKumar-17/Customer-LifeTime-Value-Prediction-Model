{
 "cells": [
  {
   "cell_type": "markdown",
   "id": "7dff81fc",
   "metadata": {},
   "source": [
    "# Customer Lifetime Value (CLV) Prediction\n",
    "## Initial Exploration & Feature Transformation\n",
    "\n",
    "This notebook focuses on **preparing the data** for modeling by addressing skewness, encoding categorical values, and applying transformations to make the dataset suitable for baseline models like **Linear Regression**.\n"
   ]
  },
  {
   "cell_type": "code",
   "execution_count": 1,
   "id": "2ef7342e",
   "metadata": {},
   "outputs": [],
   "source": [
    "import pandas as pd\n",
    "import numpy as np\n",
    "import matplotlib.pyplot as plt\n",
    "import seaborn as sns\n",
    "from datetime import datetime"
   ]
  },
  {
   "cell_type": "code",
   "execution_count": 2,
   "id": "305df5fb",
   "metadata": {},
   "outputs": [],
   "source": [
    "data= pd.read_csv(\"final_clv_dataset.csv\")"
   ]
  },
  {
   "cell_type": "code",
   "execution_count": 3,
   "id": "f78914ac",
   "metadata": {},
   "outputs": [
    {
     "data": {
      "text/html": [
       "<div>\n",
       "<style scoped>\n",
       "    .dataframe tbody tr th:only-of-type {\n",
       "        vertical-align: middle;\n",
       "    }\n",
       "\n",
       "    .dataframe tbody tr th {\n",
       "        vertical-align: top;\n",
       "    }\n",
       "\n",
       "    .dataframe thead th {\n",
       "        text-align: right;\n",
       "    }\n",
       "</style>\n",
       "<table border=\"1\" class=\"dataframe\">\n",
       "  <thead>\n",
       "    <tr style=\"text-align: right;\">\n",
       "      <th></th>\n",
       "      <th>Customer ID</th>\n",
       "      <th>TotalSpend</th>\n",
       "      <th>PurchaseFrequency</th>\n",
       "      <th>OrderHabit</th>\n",
       "      <th>Recency</th>\n",
       "      <th>AvgPurchaseGap</th>\n",
       "      <th>Trend</th>\n",
       "      <th>Churn</th>\n",
       "      <th>ReturnRate</th>\n",
       "      <th>CLV</th>\n",
       "    </tr>\n",
       "  </thead>\n",
       "  <tbody>\n",
       "    <tr>\n",
       "      <th>0</th>\n",
       "      <td>12346</td>\n",
       "      <td>169.36</td>\n",
       "      <td>2</td>\n",
       "      <td>12.0</td>\n",
       "      <td>155</td>\n",
       "      <td>5.130435</td>\n",
       "      <td>Increasing</td>\n",
       "      <td>1</td>\n",
       "      <td>0.428571</td>\n",
       "      <td>77183.60</td>\n",
       "    </tr>\n",
       "    <tr>\n",
       "      <th>1</th>\n",
       "      <td>12347</td>\n",
       "      <td>611.53</td>\n",
       "      <td>1</td>\n",
       "      <td>509.0</td>\n",
       "      <td>30</td>\n",
       "      <td>0.000000</td>\n",
       "      <td>Flag</td>\n",
       "      <td>0</td>\n",
       "      <td>0.000000</td>\n",
       "      <td>4085.18</td>\n",
       "    </tr>\n",
       "    <tr>\n",
       "      <th>2</th>\n",
       "      <td>12348</td>\n",
       "      <td>222.16</td>\n",
       "      <td>1</td>\n",
       "      <td>373.0</td>\n",
       "      <td>64</td>\n",
       "      <td>0.000000</td>\n",
       "      <td>Increasing</td>\n",
       "      <td>0</td>\n",
       "      <td>0.000000</td>\n",
       "      <td>1797.24</td>\n",
       "    </tr>\n",
       "    <tr>\n",
       "      <th>3</th>\n",
       "      <td>12349</td>\n",
       "      <td>2671.14</td>\n",
       "      <td>3</td>\n",
       "      <td>331.0</td>\n",
       "      <td>33</td>\n",
       "      <td>1.782178</td>\n",
       "      <td>Increasing</td>\n",
       "      <td>0</td>\n",
       "      <td>0.005010</td>\n",
       "      <td>1757.55</td>\n",
       "    </tr>\n",
       "    <tr>\n",
       "      <th>4</th>\n",
       "      <td>12352</td>\n",
       "      <td>343.80</td>\n",
       "      <td>2</td>\n",
       "      <td>94.0</td>\n",
       "      <td>1</td>\n",
       "      <td>0.941176</td>\n",
       "      <td>Flag</td>\n",
       "      <td>0</td>\n",
       "      <td>0.000000</td>\n",
       "      <td>1665.74</td>\n",
       "    </tr>\n",
       "  </tbody>\n",
       "</table>\n",
       "</div>"
      ],
      "text/plain": [
       "   Customer ID  TotalSpend  PurchaseFrequency  OrderHabit  Recency  \\\n",
       "0        12346      169.36                  2        12.0      155   \n",
       "1        12347      611.53                  1       509.0       30   \n",
       "2        12348      222.16                  1       373.0       64   \n",
       "3        12349     2671.14                  3       331.0       33   \n",
       "4        12352      343.80                  2        94.0        1   \n",
       "\n",
       "   AvgPurchaseGap       Trend  Churn  ReturnRate       CLV  \n",
       "0        5.130435  Increasing      1    0.428571  77183.60  \n",
       "1        0.000000        Flag      0    0.000000   4085.18  \n",
       "2        0.000000  Increasing      0    0.000000   1797.24  \n",
       "3        1.782178  Increasing      0    0.005010   1757.55  \n",
       "4        0.941176        Flag      0    0.000000   1665.74  "
      ]
     },
     "execution_count": 3,
     "metadata": {},
     "output_type": "execute_result"
    }
   ],
   "source": [
    "data.head()"
   ]
  },
  {
   "cell_type": "code",
   "execution_count": 4,
   "id": "403c02f2",
   "metadata": {},
   "outputs": [
    {
     "data": {
      "text/plain": [
       "(2711, 10)"
      ]
     },
     "execution_count": 4,
     "metadata": {},
     "output_type": "execute_result"
    }
   ],
   "source": [
    "data.shape"
   ]
  },
  {
   "cell_type": "markdown",
   "id": "2693d0e6",
   "metadata": {},
   "source": [
    "### Feature Overview\n",
    "\n",
    "We have 9 input features and 1 target variable:\n",
    "- **Customer ID** – Unique customer identifier\n",
    "- **TotalSpend** – Total money spent in Year 1\n",
    "- **PurchaseFrequency** – Number of distinct purchases\n",
    "- **OrderHabit** – Avg quantity per invoice\n",
    "- **Recency** – Days since last purchase in Year 1\n",
    "- **AvgPurchaseGap** – Avg days between two purchases\n",
    "- **Trend** – Customer purchase behavior across 6 quarters\n",
    "- **Churn** – Flag for early activity and late inactivity\n",
    "- **ReturnRate** – Ratio of returned quantity to purchased quantity\n",
    "- **CLV** (Target) – Total spend of that customer in Year 2\n"
   ]
  },
  {
   "cell_type": "code",
   "execution_count": 5,
   "id": "1d8f9cf5",
   "metadata": {},
   "outputs": [],
   "source": [
    "data=data.drop(columns=['Customer ID']) # we dont need customer-id anymore"
   ]
  },
  {
   "cell_type": "code",
   "execution_count": 6,
   "id": "12e5799b",
   "metadata": {},
   "outputs": [
    {
     "name": "stdout",
     "output_type": "stream",
     "text": [
      "<class 'pandas.core.frame.DataFrame'>\n",
      "RangeIndex: 2711 entries, 0 to 2710\n",
      "Data columns (total 9 columns):\n",
      " #   Column             Non-Null Count  Dtype  \n",
      "---  ------             --------------  -----  \n",
      " 0   TotalSpend         2711 non-null   float64\n",
      " 1   PurchaseFrequency  2711 non-null   int64  \n",
      " 2   OrderHabit         2711 non-null   float64\n",
      " 3   Recency            2711 non-null   int64  \n",
      " 4   AvgPurchaseGap     2689 non-null   float64\n",
      " 5   Trend              2711 non-null   object \n",
      " 6   Churn              2711 non-null   int64  \n",
      " 7   ReturnRate         2711 non-null   float64\n",
      " 8   CLV                2711 non-null   float64\n",
      "dtypes: float64(5), int64(3), object(1)\n",
      "memory usage: 190.7+ KB\n"
     ]
    }
   ],
   "source": [
    "data.info()"
   ]
  },
  {
   "cell_type": "code",
   "execution_count": 7,
   "id": "538603cf",
   "metadata": {},
   "outputs": [],
   "source": [
    "data['AvgPurchaseGap'].fillna(0,inplace=True)"
   ]
  },
  {
   "cell_type": "code",
   "execution_count": 8,
   "id": "c7f3dae2",
   "metadata": {},
   "outputs": [
    {
     "data": {
      "text/plain": [
       "TotalSpend           0\n",
       "PurchaseFrequency    0\n",
       "OrderHabit           0\n",
       "Recency              0\n",
       "AvgPurchaseGap       0\n",
       "Trend                0\n",
       "Churn                0\n",
       "ReturnRate           0\n",
       "CLV                  0\n",
       "dtype: int64"
      ]
     },
     "execution_count": 8,
     "metadata": {},
     "output_type": "execute_result"
    }
   ],
   "source": [
    "data.isnull().sum()"
   ]
  },
  {
   "cell_type": "code",
   "execution_count": 9,
   "id": "efacc3ba",
   "metadata": {},
   "outputs": [
    {
     "data": {
      "text/plain": [
       "Trend\n",
       "Increasing    1508\n",
       "Decreasing     793\n",
       "Flag           393\n",
       "Stable          17\n",
       "Name: count, dtype: int64"
      ]
     },
     "execution_count": 9,
     "metadata": {},
     "output_type": "execute_result"
    }
   ],
   "source": [
    "data['Trend'].value_counts()"
   ]
  },
  {
   "cell_type": "markdown",
   "id": "50d5414c",
   "metadata": {},
   "source": [
    "### Total Spend"
   ]
  },
  {
   "cell_type": "code",
   "execution_count": 10,
   "id": "2f1ce4c1",
   "metadata": {},
   "outputs": [
    {
     "data": {
      "text/plain": [
       "(0.0, 50000.0)"
      ]
     },
     "execution_count": 10,
     "metadata": {},
     "output_type": "execute_result"
    },
    {
     "data": {
      "image/png": "[encoded data removed]",
      "text/plain": [
       "<Figure size 800x500 with 1 Axes>"
      ]
     },
     "metadata": {},
     "output_type": "display_data"
    }
   ],
   "source": [
    "plt.figure(figsize=(8,5))\n",
    "sns.histplot(data['TotalSpend'], bins=200, kde=True)\n",
    "plt.xlim(0, 50000)"
   ]
  },
  {
   "cell_type": "code",
   "execution_count": 11,
   "id": "f84844fe",
   "metadata": {},
   "outputs": [
    {
     "data": {
      "text/plain": [
       "19.232613228943002"
      ]
     },
     "execution_count": 11,
     "metadata": {},
     "output_type": "execute_result"
    }
   ],
   "source": [
    "data['TotalSpend'].skew() # Extremely right skewness"
   ]
  },
  {
   "cell_type": "code",
   "execution_count": 12,
   "id": "ca33e10b",
   "metadata": {},
   "outputs": [
    {
     "data": {
      "text/plain": [
       "<Axes: >"
      ]
     },
     "execution_count": 12,
     "metadata": {},
     "output_type": "execute_result"
    },
    {
     "data": {
      "image/png": "[encoded data removed]",
      "text/plain": [
       "<Figure size 640x480 with 1 Axes>"
      ]
     },
     "metadata": {},
     "output_type": "display_data"
    }
   ],
   "source": [
    "sns.boxplot(data['TotalSpend'])"
   ]
  },
  {
   "cell_type": "markdown",
   "id": "89887726",
   "metadata": {},
   "source": [
    "#### --> Lets go for log transformation"
   ]
  },
  {
   "cell_type": "code",
   "execution_count": 13,
   "id": "2d2006dc",
   "metadata": {},
   "outputs": [],
   "source": [
    "dataCpy=data.copy()"
   ]
  },
  {
   "cell_type": "code",
   "execution_count": 14,
   "id": "89e35df7",
   "metadata": {},
   "outputs": [],
   "source": [
    "dataCpy['Log_TotalSpend']=np.log1p(dataCpy['TotalSpend'])"
   ]
  },
  {
   "cell_type": "code",
   "execution_count": 15,
   "id": "61bdd76e",
   "metadata": {},
   "outputs": [
    {
     "data": {
      "text/plain": [
       "<Axes: xlabel='Log_TotalSpend', ylabel='Count'>"
      ]
     },
     "execution_count": 15,
     "metadata": {},
     "output_type": "execute_result"
    },
    {
     "data": {
      "image/png": "[encoded data removed]",
      "text/plain": [
       "<Figure size 800x500 with 1 Axes>"
      ]
     },
     "metadata": {},
     "output_type": "display_data"
    }
   ],
   "source": [
    "plt.figure(figsize=(8,5))\n",
    "sns.histplot(dataCpy['Log_TotalSpend'], bins=50, kde=True)"
   ]
  },
  {
   "cell_type": "code",
   "execution_count": 16,
   "id": "3a016003",
   "metadata": {},
   "outputs": [
    {
     "data": {
      "text/plain": [
       "0.2515263635180606"
      ]
     },
     "execution_count": 16,
     "metadata": {},
     "output_type": "execute_result"
    }
   ],
   "source": [
    "dataCpy['Log_TotalSpend'].skew()"
   ]
  },
  {
   "cell_type": "code",
   "execution_count": 17,
   "id": "be12ea49",
   "metadata": {},
   "outputs": [
    {
     "data": {
      "text/plain": [
       "count    2711.000000\n",
       "mean        6.988966\n",
       "std         1.212622\n",
       "min         0.936093\n",
       "25%         6.166247\n",
       "50%         6.976040\n",
       "75%         7.748264\n",
       "max        12.680226\n",
       "Name: Log_TotalSpend, dtype: float64"
      ]
     },
     "execution_count": 17,
     "metadata": {},
     "output_type": "execute_result"
    }
   ],
   "source": [
    "dataCpy['Log_TotalSpend'].describe()"
   ]
  },
  {
   "cell_type": "markdown",
   "id": "42815651",
   "metadata": {},
   "source": [
    "#### Purchase Frequency"
   ]
  },
  {
   "cell_type": "code",
   "execution_count": 18,
   "id": "a012b39c",
   "metadata": {
    "scrolled": true
   },
   "outputs": [
    {
     "data": {
      "text/plain": [
       "count    2711.000000\n",
       "mean        5.584286\n",
       "std         9.118702\n",
       "min         1.000000\n",
       "25%         2.000000\n",
       "50%         3.000000\n",
       "75%         6.000000\n",
       "max       180.000000\n",
       "Name: PurchaseFrequency, dtype: float64"
      ]
     },
     "execution_count": 18,
     "metadata": {},
     "output_type": "execute_result"
    }
   ],
   "source": [
    "data['PurchaseFrequency'].describe()"
   ]
  },
  {
   "cell_type": "code",
   "execution_count": 19,
   "id": "bc7da92e",
   "metadata": {},
   "outputs": [
    {
     "data": {
      "text/plain": [
       "PurchaseFrequency\n",
       "1      556\n",
       "2      473\n",
       "3      374\n",
       "4      295\n",
       "5      205\n",
       "6      161\n",
       "7      125\n",
       "8       88\n",
       "9       81\n",
       "10      66\n",
       "11      31\n",
       "12      46\n",
       "13      30\n",
       "14      23\n",
       "15      18\n",
       "16      12\n",
       "17      19\n",
       "18      14\n",
       "19       4\n",
       "20       7\n",
       "21       6\n",
       "22       5\n",
       "23       7\n",
       "24       8\n",
       "25       5\n",
       "26       3\n",
       "27       2\n",
       "28       3\n",
       "29       3\n",
       "30       1\n",
       "31       3\n",
       "32       2\n",
       "34       1\n",
       "35       1\n",
       "36       1\n",
       "37       3\n",
       "38       1\n",
       "39       2\n",
       "42       2\n",
       "43       1\n",
       "44       2\n",
       "46       1\n",
       "47       2\n",
       "53       1\n",
       "58       2\n",
       "61       1\n",
       "67       1\n",
       "72       1\n",
       "78       1\n",
       "79       1\n",
       "85       1\n",
       "87       1\n",
       "93       1\n",
       "96       1\n",
       "98       1\n",
       "106      1\n",
       "116      1\n",
       "119      1\n",
       "121      1\n",
       "180      1\n",
       "Name: count, dtype: int64"
      ]
     },
     "execution_count": 19,
     "metadata": {},
     "output_type": "execute_result"
    }
   ],
   "source": [
    "data['PurchaseFrequency'].value_counts().sort_index()"
   ]
  },
  {
   "cell_type": "code",
   "execution_count": 20,
   "id": "27112907",
   "metadata": {},
   "outputs": [
    {
     "data": {
      "image/png": "[encoded data removed]",
      "text/plain": [
       "<Figure size 640x480 with 1 Axes>"
      ]
     },
     "metadata": {},
     "output_type": "display_data"
    }
   ],
   "source": [
    "sns.boxplot(x=data['PurchaseFrequency'])\n",
    "plt.title(\"Boxplot: Purchase Frequency\")\n",
    "plt.show()"
   ]
  },
  {
   "cell_type": "code",
   "execution_count": 21,
   "id": "b89ebba3",
   "metadata": {},
   "outputs": [
    {
     "data": {
      "text/plain": [
       "8.27063771300593"
      ]
     },
     "execution_count": 21,
     "metadata": {},
     "output_type": "execute_result"
    }
   ],
   "source": [
    "dataCpy['PurchaseFrequency'].skew() #again right skewed"
   ]
  },
  {
   "cell_type": "code",
   "execution_count": 22,
   "id": "680e8cc5",
   "metadata": {},
   "outputs": [],
   "source": [
    "dataCpy['Log_PurchaseFrequency'] = np.log1p(dataCpy['PurchaseFrequency'])"
   ]
  },
  {
   "cell_type": "code",
   "execution_count": 23,
   "id": "c129daae",
   "metadata": {},
   "outputs": [
    {
     "data": {
      "text/plain": [
       "<Axes: xlabel='Log_PurchaseFrequency', ylabel='Count'>"
      ]
     },
     "execution_count": 23,
     "metadata": {},
     "output_type": "execute_result"
    },
    {
     "data": {
      "image/png": "[encoded data removed]",
      "text/plain": [
       "<Figure size 800x500 with 1 Axes>"
      ]
     },
     "metadata": {},
     "output_type": "display_data"
    }
   ],
   "source": [
    "plt.figure(figsize=(8,5))\n",
    "sns.histplot(dataCpy['Log_PurchaseFrequency'], bins=20, kde=True)"
   ]
  },
  {
   "cell_type": "code",
   "execution_count": 24,
   "id": "55c39b4a",
   "metadata": {},
   "outputs": [
    {
     "data": {
      "text/plain": [
       "0.9293917371161354"
      ]
     },
     "execution_count": 24,
     "metadata": {},
     "output_type": "execute_result"
    }
   ],
   "source": [
    "dataCpy['Log_PurchaseFrequency'].skew() \n",
    "#Nope skewness even increased!!"
   ]
  },
  {
   "cell_type": "code",
   "execution_count": 25,
   "id": "f5e9fefa",
   "metadata": {},
   "outputs": [],
   "source": [
    "from scipy.stats import boxcox\n",
    "dataCpy['BC_PurchaseFrequency'], _ = boxcox(dataCpy['PurchaseFrequency'] + 1)"
   ]
  },
  {
   "cell_type": "code",
   "execution_count": 26,
   "id": "39622438",
   "metadata": {},
   "outputs": [
    {
     "data": {
      "text/plain": [
       "0.08352271061520317"
      ]
     },
     "execution_count": 26,
     "metadata": {},
     "output_type": "execute_result"
    }
   ],
   "source": [
    "dataCpy['BC_PurchaseFrequency'].skew() #skewness Reduced"
   ]
  },
  {
   "cell_type": "code",
   "execution_count": 27,
   "id": "4a386b20",
   "metadata": {},
   "outputs": [
    {
     "data": {
      "text/plain": [
       "<Axes: xlabel='BC_PurchaseFrequency', ylabel='Count'>"
      ]
     },
     "execution_count": 27,
     "metadata": {},
     "output_type": "execute_result"
    },
    {
     "data": {
      "image/png": "[encoded data removed]",
      "text/plain": [
       "<Figure size 640x480 with 1 Axes>"
      ]
     },
     "metadata": {},
     "output_type": "display_data"
    }
   ],
   "source": [
    "sns.histplot(dataCpy['BC_PurchaseFrequency'], bins=20, kde=True) \n",
    "#But distribution shows underlying groups\n",
    "#Binning would be good i guess"
   ]
  },
  {
   "cell_type": "code",
   "execution_count": 28,
   "id": "e53667fc",
   "metadata": {},
   "outputs": [],
   "source": [
    "#Lets try binning then hopefully it works!!\n",
    "dataCpy['PurchaseFreq_Label'] = pd.cut(\n",
    "    dataCpy['PurchaseFrequency'],\n",
    "    bins=[0, 2, 5, 10, 30, np.inf],\n",
    "    labels=['Rare', 'Low', 'Moderate', 'High', 'SuperBuyer']\n",
    ")"
   ]
  },
  {
   "cell_type": "code",
   "execution_count": 29,
   "id": "f6cde49e",
   "metadata": {},
   "outputs": [
    {
     "data": {
      "text/plain": [
       "PurchaseFreq_Label\n",
       "Rare          1029\n",
       "Low            874\n",
       "Moderate       521\n",
       "High           247\n",
       "SuperBuyer      40\n",
       "Name: count, dtype: int64"
      ]
     },
     "execution_count": 29,
     "metadata": {},
     "output_type": "execute_result"
    }
   ],
   "source": [
    "dataCpy['PurchaseFreq_Label'].value_counts()"
   ]
  },
  {
   "cell_type": "code",
   "execution_count": 30,
   "id": "5a7bd9a7",
   "metadata": {},
   "outputs": [
    {
     "data": {
      "text/plain": [
       "PurchaseFreq_Label\n",
       "Rare            897.700603\n",
       "Low            1786.114154\n",
       "Moderate       2395.544664\n",
       "High           5995.985267\n",
       "SuperBuyer    41058.836250\n",
       "Name: CLV, dtype: float64"
      ]
     },
     "execution_count": 30,
     "metadata": {},
     "output_type": "execute_result"
    }
   ],
   "source": [
    "# \"Does SuperBuyers have higher CLV\"\n",
    "dataCpy.groupby('PurchaseFreq_Label')['CLV'].mean()\n",
    "# Perfect trend can be seen..."
   ]
  },
  {
   "cell_type": "code",
   "execution_count": 31,
   "id": "f29bce36",
   "metadata": {},
   "outputs": [
    {
     "data": {
      "text/plain": [
       "<Axes: title={'center': 'Avg CLV per Purchase Frequency Segment'}, xlabel='PurchaseFreq_Label'>"
      ]
     },
     "execution_count": 31,
     "metadata": {},
     "output_type": "execute_result"
    },
    {
     "data": {
      "image/png": "[encoded data removed]",
      "text/plain": [
       "<Figure size 640x480 with 1 Axes>"
      ]
     },
     "metadata": {},
     "output_type": "display_data"
    }
   ],
   "source": [
    "dataCpy.groupby('PurchaseFreq_Label')['CLV'].mean().plot(kind='bar', title='Avg CLV per Purchase Frequency Segment')"
   ]
  },
  {
   "cell_type": "code",
   "execution_count": 32,
   "id": "5117efc7",
   "metadata": {},
   "outputs": [],
   "source": [
    "#Finally will Consider creating an additional binary feature for modeling:\n",
    "dataCpy['IsFrequentBuyer'] = dataCpy['PurchaseFreq_Label'].isin(['High', 'SuperBuyer']).astype(int)"
   ]
  },
  {
   "cell_type": "code",
   "execution_count": 33,
   "id": "b6662aea",
   "metadata": {},
   "outputs": [
    {
     "data": {
      "text/plain": [
       "IsFrequentBuyer\n",
       "0    2424\n",
       "1     287\n",
       "Name: count, dtype: int64"
      ]
     },
     "execution_count": 33,
     "metadata": {},
     "output_type": "execute_result"
    }
   ],
   "source": [
    "dataCpy['IsFrequentBuyer'].value_counts()"
   ]
  },
  {
   "cell_type": "code",
   "execution_count": 34,
   "id": "c8fee230",
   "metadata": {},
   "outputs": [
    {
     "data": {
      "text/plain": [
       "IsFrequentBuyer\n",
       "0     1539.965537\n",
       "1    10882.793767\n",
       "Name: CLV, dtype: float64"
      ]
     },
     "execution_count": 34,
     "metadata": {},
     "output_type": "execute_result"
    }
   ],
   "source": [
    "dataCpy.groupby('IsFrequentBuyer')['CLV'].mean()"
   ]
  },
  {
   "cell_type": "markdown",
   "id": "dfd43b82",
   "metadata": {},
   "source": [
    "#### OrderHabit"
   ]
  },
  {
   "cell_type": "code",
   "execution_count": 35,
   "id": "dbf2fbc4",
   "metadata": {},
   "outputs": [
    {
     "data": {
      "text/plain": [
       "count     2711.000000\n",
       "mean       250.347466\n",
       "std        489.597370\n",
       "min          1.000000\n",
       "25%        103.416667\n",
       "50%        173.000000\n",
       "75%        281.928571\n",
       "max      17565.800000\n",
       "Name: OrderHabit, dtype: float64"
      ]
     },
     "execution_count": 35,
     "metadata": {},
     "output_type": "execute_result"
    }
   ],
   "source": [
    "data['OrderHabit'].describe()"
   ]
  },
  {
   "cell_type": "code",
   "execution_count": 36,
   "id": "9de86940",
   "metadata": {},
   "outputs": [
    {
     "data": {
      "text/plain": [
       "23.21055004680602"
      ]
     },
     "execution_count": 36,
     "metadata": {},
     "output_type": "execute_result"
    }
   ],
   "source": [
    "data['OrderHabit'].skew() #Higly right skewed"
   ]
  },
  {
   "cell_type": "code",
   "execution_count": 37,
   "id": "1ac97dd1",
   "metadata": {},
   "outputs": [
    {
     "data": {
      "image/png": "[encoded data removed]",
      "text/plain": [
       "<Figure size 640x480 with 1 Axes>"
      ]
     },
     "metadata": {},
     "output_type": "display_data"
    }
   ],
   "source": [
    "sns.histplot(data['OrderHabit'], kde=True, bins=50)\n",
    "plt.title(\"OrderHabit Distribution\")\n",
    "plt.show()"
   ]
  },
  {
   "cell_type": "code",
   "execution_count": 38,
   "id": "9995b9fe",
   "metadata": {},
   "outputs": [],
   "source": [
    "dataCpy['Log_OrderHabit'] = np.log1p(dataCpy['OrderHabit'])"
   ]
  },
  {
   "cell_type": "code",
   "execution_count": 39,
   "id": "731259d1",
   "metadata": {},
   "outputs": [
    {
     "data": {
      "text/plain": [
       "-0.29699149424381144"
      ]
     },
     "execution_count": 39,
     "metadata": {},
     "output_type": "execute_result"
    }
   ],
   "source": [
    "dataCpy['Log_OrderHabit'].skew() # which is almost symmetric(bit left skewed, but acceptable)"
   ]
  },
  {
   "cell_type": "code",
   "execution_count": 40,
   "id": "1c38aeb4",
   "metadata": {},
   "outputs": [
    {
     "data": {
      "text/plain": [
       "<Axes: xlabel='Log_OrderHabit', ylabel='Count'>"
      ]
     },
     "execution_count": 40,
     "metadata": {},
     "output_type": "execute_result"
    },
    {
     "data": {
      "image/png": "[encoded data removed]",
      "text/plain": [
       "<Figure size 640x480 with 1 Axes>"
      ]
     },
     "metadata": {},
     "output_type": "display_data"
    }
   ],
   "source": [
    "sns.histplot(dataCpy['Log_OrderHabit'], kde=True, bins=30)"
   ]
  },
  {
   "cell_type": "code",
   "execution_count": 41,
   "id": "05a6dcee",
   "metadata": {},
   "outputs": [],
   "source": [
    "dataCpy['OrderHabit_Label'] = pd.qcut(dataCpy['Log_OrderHabit'], q=5, labels=[\n",
    "    'Light Buyer', 'Moderate Buyer', 'Regular Buyer', 'Heavy Buyer', 'Bulk Buyer'\n",
    "])"
   ]
  },
  {
   "cell_type": "code",
   "execution_count": 42,
   "id": "46bb342d",
   "metadata": {},
   "outputs": [
    {
     "data": {
      "text/plain": [
       "OrderHabit_Label\n",
       "Light Buyer       548\n",
       "Regular Buyer     545\n",
       "Bulk Buyer        541\n",
       "Heavy Buyer       540\n",
       "Moderate Buyer    537\n",
       "Name: count, dtype: int64"
      ]
     },
     "execution_count": 42,
     "metadata": {},
     "output_type": "execute_result"
    }
   ],
   "source": [
    "dataCpy['OrderHabit_Label'].value_counts()"
   ]
  },
  {
   "cell_type": "code",
   "execution_count": 43,
   "id": "b0dbd550",
   "metadata": {},
   "outputs": [
    {
     "data": {
      "text/plain": [
       "OrderHabit_Label\n",
       "Light Buyer        905.737573\n",
       "Moderate Buyer    1264.217412\n",
       "Regular Buyer     1682.592697\n",
       "Heavy Buyer       2314.359837\n",
       "Bulk Buyer        6495.826250\n",
       "Name: CLV, dtype: float64"
      ]
     },
     "execution_count": 43,
     "metadata": {},
     "output_type": "execute_result"
    }
   ],
   "source": [
    "# “Do bulk buyers have higher CLV?”\n",
    "dataCpy.groupby('OrderHabit_Label')['CLV'].mean() \n",
    "#This show that yes, BulkBuyers do have higher CLV"
   ]
  },
  {
   "cell_type": "code",
   "execution_count": 44,
   "id": "afcf5b1d",
   "metadata": {},
   "outputs": [
    {
     "data": {
      "text/plain": [
       "OrderHabit_Label\n",
       "Bulk Buyer        0.118299\n",
       "Heavy Buyer       0.124074\n",
       "Moderate Buyer    0.147114\n",
       "Regular Buyer     0.165138\n",
       "Light Buyer       0.237226\n",
       "Name: Churn, dtype: float64"
      ]
     },
     "execution_count": 44,
     "metadata": {},
     "output_type": "execute_result"
    }
   ],
   "source": [
    "# “Are light buyers more likely to churn?”\n",
    "dataCpy.groupby('OrderHabit_Label')['Churn'].mean().sort_values()\n",
    "#Inverse correlation: as order volume increases → churn decreases."
   ]
  },
  {
   "cell_type": "code",
   "execution_count": 45,
   "id": "7b3f561a",
   "metadata": {},
   "outputs": [
    {
     "data": {
      "text/html": [
       "<div>\n",
       "<style scoped>\n",
       "    .dataframe tbody tr th:only-of-type {\n",
       "        vertical-align: middle;\n",
       "    }\n",
       "\n",
       "    .dataframe tbody tr th {\n",
       "        vertical-align: top;\n",
       "    }\n",
       "\n",
       "    .dataframe thead th {\n",
       "        text-align: right;\n",
       "    }\n",
       "</style>\n",
       "<table border=\"1\" class=\"dataframe\">\n",
       "  <thead>\n",
       "    <tr style=\"text-align: right;\">\n",
       "      <th>Trend</th>\n",
       "      <th>Decreasing</th>\n",
       "      <th>Flag</th>\n",
       "      <th>Increasing</th>\n",
       "      <th>Stable</th>\n",
       "    </tr>\n",
       "    <tr>\n",
       "      <th>OrderHabit_Label</th>\n",
       "      <th></th>\n",
       "      <th></th>\n",
       "      <th></th>\n",
       "      <th></th>\n",
       "    </tr>\n",
       "  </thead>\n",
       "  <tbody>\n",
       "    <tr>\n",
       "      <th>Light Buyer</th>\n",
       "      <td>660.845628</td>\n",
       "      <td>625.420000</td>\n",
       "      <td>1183.814179</td>\n",
       "      <td>310.607500</td>\n",
       "    </tr>\n",
       "    <tr>\n",
       "      <th>Moderate Buyer</th>\n",
       "      <td>1128.614845</td>\n",
       "      <td>861.893908</td>\n",
       "      <td>1471.313509</td>\n",
       "      <td>717.160000</td>\n",
       "    </tr>\n",
       "    <tr>\n",
       "      <th>Regular Buyer</th>\n",
       "      <td>1325.389211</td>\n",
       "      <td>927.119041</td>\n",
       "      <td>2036.964353</td>\n",
       "      <td>718.823333</td>\n",
       "    </tr>\n",
       "    <tr>\n",
       "      <th>Heavy Buyer</th>\n",
       "      <td>2381.572506</td>\n",
       "      <td>873.740303</td>\n",
       "      <td>2592.324954</td>\n",
       "      <td>1324.160000</td>\n",
       "    </tr>\n",
       "    <tr>\n",
       "      <th>Bulk Buyer</th>\n",
       "      <td>6969.069698</td>\n",
       "      <td>2837.193974</td>\n",
       "      <td>7178.451471</td>\n",
       "      <td>3506.540000</td>\n",
       "    </tr>\n",
       "  </tbody>\n",
       "</table>\n",
       "</div>"
      ],
      "text/plain": [
       "Trend              Decreasing         Flag   Increasing       Stable\n",
       "OrderHabit_Label                                                    \n",
       "Light Buyer        660.845628   625.420000  1183.814179   310.607500\n",
       "Moderate Buyer    1128.614845   861.893908  1471.313509   717.160000\n",
       "Regular Buyer     1325.389211   927.119041  2036.964353   718.823333\n",
       "Heavy Buyer       2381.572506   873.740303  2592.324954  1324.160000\n",
       "Bulk Buyer        6969.069698  2837.193974  7178.451471  3506.540000"
      ]
     },
     "execution_count": 45,
     "metadata": {},
     "output_type": "execute_result"
    }
   ],
   "source": [
    "# “Is CLV growth rate higher in moderate or heavy buyers?”\n",
    "dataCpy.groupby(['OrderHabit_Label', 'Trend'])['CLV'].mean().unstack()\n",
    "#Across all categories, customers with Increasing trend have much higher CLV."
   ]
  },
  {
   "cell_type": "markdown",
   "id": "bb483026",
   "metadata": {},
   "source": [
    "#### Recency"
   ]
  },
  {
   "cell_type": "code",
   "execution_count": 46,
   "id": "07239c2e",
   "metadata": {},
   "outputs": [
    {
     "data": {
      "text/plain": [
       "count    2711.000000\n",
       "mean       61.011435\n",
       "std        74.803182\n",
       "min         0.000000\n",
       "25%        11.000000\n",
       "50%        33.000000\n",
       "75%        74.000000\n",
       "max       364.000000\n",
       "Name: Recency, dtype: float64"
      ]
     },
     "execution_count": 46,
     "metadata": {},
     "output_type": "execute_result"
    }
   ],
   "source": [
    "data['Recency'].describe()"
   ]
  },
  {
   "cell_type": "code",
   "execution_count": 47,
   "id": "4ce51419",
   "metadata": {},
   "outputs": [
    {
     "data": {
      "text/plain": [
       "1.8817039949920644"
      ]
     },
     "execution_count": 47,
     "metadata": {},
     "output_type": "execute_result"
    }
   ],
   "source": [
    "data['Recency'].skew() #Right skewed"
   ]
  },
  {
   "cell_type": "code",
   "execution_count": 48,
   "id": "cc1f5575",
   "metadata": {},
   "outputs": [
    {
     "data": {
      "text/plain": [
       "<Axes: xlabel='Recency', ylabel='Count'>"
      ]
     },
     "execution_count": 48,
     "metadata": {},
     "output_type": "execute_result"
    },
    {
     "data": {
      "image/png": "[encoded data removed]",
      "text/plain": [
       "<Figure size 640x480 with 1 Axes>"
      ]
     },
     "metadata": {},
     "output_type": "display_data"
    }
   ],
   "source": [
    "sns.histplot(data['Recency'], bins=30, kde=True)"
   ]
  },
  {
   "cell_type": "code",
   "execution_count": 49,
   "id": "0168073d",
   "metadata": {},
   "outputs": [],
   "source": [
    "#Again Log transformation\n",
    "dataCpy['Log_Recency'] = np.log1p(dataCpy['Recency'])"
   ]
  },
  {
   "cell_type": "code",
   "execution_count": 50,
   "id": "603d2886",
   "metadata": {},
   "outputs": [
    {
     "data": {
      "text/plain": [
       "<Axes: xlabel='Log_Recency', ylabel='Count'>"
      ]
     },
     "execution_count": 50,
     "metadata": {},
     "output_type": "execute_result"
    },
    {
     "data": {
      "image/png": "[encoded data removed]",
      "text/plain": [
       "<Figure size 640x480 with 1 Axes>"
      ]
     },
     "metadata": {},
     "output_type": "display_data"
    }
   ],
   "source": [
    "sns.histplot(dataCpy['Log_Recency'], bins=30, kde=True)"
   ]
  },
  {
   "cell_type": "code",
   "execution_count": 51,
   "id": "c6156ad3",
   "metadata": {
    "scrolled": true
   },
   "outputs": [
    {
     "data": {
      "text/plain": [
       "-0.42036223557471997"
      ]
     },
     "execution_count": 51,
     "metadata": {},
     "output_type": "execute_result"
    }
   ],
   "source": [
    "dataCpy['Log_Recency'].skew()"
   ]
  },
  {
   "cell_type": "code",
   "execution_count": 52,
   "id": "5fece080",
   "metadata": {},
   "outputs": [],
   "source": [
    "dataCpy['BC_Recency'], _ = boxcox(dataCpy['Recency'] + 1)"
   ]
  },
  {
   "cell_type": "code",
   "execution_count": 53,
   "id": "c101b088",
   "metadata": {
    "scrolled": true
   },
   "outputs": [
    {
     "data": {
      "text/plain": [
       "<Axes: xlabel='BC_Recency', ylabel='Count'>"
      ]
     },
     "execution_count": 53,
     "metadata": {},
     "output_type": "execute_result"
    },
    {
     "data": {
      "image/png": "[encoded data removed]",
      "text/plain": [
       "<Figure size 640x480 with 1 Axes>"
      ]
     },
     "metadata": {},
     "output_type": "display_data"
    }
   ],
   "source": [
    "sns.histplot(dataCpy['BC_Recency'], bins=30, kde=True)"
   ]
  },
  {
   "cell_type": "code",
   "execution_count": 54,
   "id": "cdc54906",
   "metadata": {},
   "outputs": [
    {
     "data": {
      "text/plain": [
       "-0.03154952373646557"
      ]
     },
     "execution_count": 54,
     "metadata": {},
     "output_type": "execute_result"
    }
   ],
   "source": [
    "dataCpy['BC_Recency'].skew()"
   ]
  },
  {
   "cell_type": "code",
   "execution_count": 55,
   "id": "4eef8e46",
   "metadata": {},
   "outputs": [],
   "source": [
    "#Lets do Binning\n",
    "#what i am thinking at this point is there no harm  in creating binning,\n",
    "#will try tree based models as well in the end\n",
    "bins =  [0, 50, 100, 200, 300, data['Recency'].max() + 1]\n",
    "labels = ['Very Recent', 'Recent', 'Mid Term', 'Old', 'Dormant']\n",
    "dataCpy['Recency_Label'] = pd.cut(dataCpy['Recency'], bins=bins, labels=labels)"
   ]
  },
  {
   "cell_type": "code",
   "execution_count": 56,
   "id": "bbef13d3",
   "metadata": {},
   "outputs": [
    {
     "data": {
      "text/plain": [
       "Recency_Label\n",
       "Very Recent    1639\n",
       "Recent          471\n",
       "Mid Term        292\n",
       "Old             178\n",
       "Dormant          42\n",
       "Name: count, dtype: int64"
      ]
     },
     "execution_count": 56,
     "metadata": {},
     "output_type": "execute_result"
    }
   ],
   "source": [
    "dataCpy['Recency_Label'].value_counts() \n",
    "# Manual Binning-->Highy skewed...\n",
    "#Since i dont have domain knowledge its better rather go for qcut().."
   ]
  },
  {
   "cell_type": "code",
   "execution_count": 57,
   "id": "cf36289d",
   "metadata": {},
   "outputs": [
    {
     "name": "stdout",
     "output_type": "stream",
     "text": [
      "Recency_QBin\n",
      "Very Recent    576\n",
      "Mid Term       545\n",
      "Dormant        538\n",
      "Old            537\n",
      "Recent         515\n",
      "Name: count, dtype: int64\n"
     ]
    }
   ],
   "source": [
    "# Quantile binning into 5 equal-frequency groups\n",
    "dataCpy['Recency_QBin'] = pd.qcut(dataCpy['Recency'], q=5,labels=['Very Recent', 'Recent', 'Mid Term', 'Old', 'Dormant'])\n",
    "print(dataCpy['Recency_QBin'].value_counts())"
   ]
  },
  {
   "cell_type": "code",
   "execution_count": 58,
   "id": "ca8d2657",
   "metadata": {},
   "outputs": [
    {
     "data": {
      "text/plain": [
       "Recency_Label\n",
       "Very Recent    3087.527841\n",
       "Recent         1374.579132\n",
       "Mid Term       1176.084490\n",
       "Old             674.592079\n",
       "Dormant         724.437857\n",
       "Name: CLV, dtype: float64"
      ]
     },
     "execution_count": 58,
     "metadata": {},
     "output_type": "execute_result"
    }
   ],
   "source": [
    "dataCpy.groupby('Recency_Label')['CLV'].mean()"
   ]
  },
  {
   "cell_type": "code",
   "execution_count": 59,
   "id": "b7eaf360",
   "metadata": {},
   "outputs": [
    {
     "data": {
      "text/plain": [
       "Recency_QBin\n",
       "Very Recent    5060.804116\n",
       "Recent         2647.425379\n",
       "Mid Term       2407.770312\n",
       "Old            1376.618102\n",
       "Dormant         978.275634\n",
       "Name: CLV, dtype: float64"
      ]
     },
     "execution_count": 59,
     "metadata": {},
     "output_type": "execute_result"
    }
   ],
   "source": [
    "dataCpy.groupby('Recency_QBin')['CLV'].mean() "
   ]
  },
  {
   "cell_type": "code",
   "execution_count": 60,
   "id": "908431a2",
   "metadata": {},
   "outputs": [],
   "source": [
    "#Qbin shows a good relation, but sadly we loose granularity\n",
    "#will keep it and try with tree based model\n",
    "#But we are keeping log form as well, let the model decide which one is good"
   ]
  },
  {
   "cell_type": "markdown",
   "id": "f306aaf7",
   "metadata": {},
   "source": [
    "#### Average Purchase gap"
   ]
  },
  {
   "cell_type": "code",
   "execution_count": 61,
   "id": "cae3e393",
   "metadata": {},
   "outputs": [
    {
     "data": {
      "text/html": [
       "<div>\n",
       "<style scoped>\n",
       "    .dataframe tbody tr th:only-of-type {\n",
       "        vertical-align: middle;\n",
       "    }\n",
       "\n",
       "    .dataframe tbody tr th {\n",
       "        vertical-align: top;\n",
       "    }\n",
       "\n",
       "    .dataframe thead th {\n",
       "        text-align: right;\n",
       "    }\n",
       "</style>\n",
       "<table border=\"1\" class=\"dataframe\">\n",
       "  <thead>\n",
       "    <tr style=\"text-align: right;\">\n",
       "      <th></th>\n",
       "      <th>AvgPurchaseGap</th>\n",
       "      <th>PurchaseFrequency</th>\n",
       "    </tr>\n",
       "  </thead>\n",
       "  <tbody>\n",
       "    <tr>\n",
       "      <th>AvgPurchaseGap</th>\n",
       "      <td>1.000000</td>\n",
       "      <td>-0.040707</td>\n",
       "    </tr>\n",
       "    <tr>\n",
       "      <th>PurchaseFrequency</th>\n",
       "      <td>-0.040707</td>\n",
       "      <td>1.000000</td>\n",
       "    </tr>\n",
       "  </tbody>\n",
       "</table>\n",
       "</div>"
      ],
      "text/plain": [
       "                   AvgPurchaseGap  PurchaseFrequency\n",
       "AvgPurchaseGap           1.000000          -0.040707\n",
       "PurchaseFrequency       -0.040707           1.000000"
      ]
     },
     "execution_count": 61,
     "metadata": {},
     "output_type": "execute_result"
    }
   ],
   "source": [
    "dataCpy[['AvgPurchaseGap', 'PurchaseFrequency']].corr()"
   ]
  },
  {
   "cell_type": "code",
   "execution_count": 62,
   "id": "60a405cf",
   "metadata": {},
   "outputs": [
    {
     "data": {
      "text/plain": [
       "16.0643694832016"
      ]
     },
     "execution_count": 62,
     "metadata": {},
     "output_type": "execute_result"
    }
   ],
   "source": [
    "dataCpy['AvgPurchaseGap'].skew()"
   ]
  },
  {
   "cell_type": "code",
   "execution_count": 63,
   "id": "92f856da",
   "metadata": {},
   "outputs": [
    {
     "data": {
      "text/plain": [
       "count    2711.000000\n",
       "mean        3.534386\n",
       "std        11.849225\n",
       "min         0.000000\n",
       "25%         0.291819\n",
       "50%         1.450000\n",
       "75%         3.279580\n",
       "max       363.000000\n",
       "Name: AvgPurchaseGap, dtype: float64"
      ]
     },
     "execution_count": 63,
     "metadata": {},
     "output_type": "execute_result"
    }
   ],
   "source": [
    "dataCpy['AvgPurchaseGap'].describe()"
   ]
  },
  {
   "cell_type": "code",
   "execution_count": 64,
   "id": "91bf2b92",
   "metadata": {},
   "outputs": [
    {
     "data": {
      "text/plain": [
       "<Axes: xlabel='AvgPurchaseGap', ylabel='Count'>"
      ]
     },
     "execution_count": 64,
     "metadata": {},
     "output_type": "execute_result"
    },
    {
     "data": {
      "image/png": "[encoded data removed]",
      "text/plain": [
       "<Figure size 640x480 with 1 Axes>"
      ]
     },
     "metadata": {},
     "output_type": "display_data"
    }
   ],
   "source": [
    "sns.histplot(data['AvgPurchaseGap'], bins=100 , kde=True)"
   ]
  },
  {
   "cell_type": "code",
   "execution_count": 65,
   "id": "d54b9eab",
   "metadata": {},
   "outputs": [],
   "source": [
    "dataCpy['Log_AvgPurchaseGap'] = np.log1p(dataCpy['AvgPurchaseGap'])"
   ]
  },
  {
   "cell_type": "code",
   "execution_count": 66,
   "id": "5646f3e1",
   "metadata": {},
   "outputs": [
    {
     "data": {
      "text/plain": [
       "<Axes: xlabel='Log_AvgPurchaseGap', ylabel='Count'>"
      ]
     },
     "execution_count": 66,
     "metadata": {},
     "output_type": "execute_result"
    },
    {
     "data": {
      "image/png": "[encoded data removed]",
      "text/plain": [
       "<Figure size 640x480 with 1 Axes>"
      ]
     },
     "metadata": {},
     "output_type": "display_data"
    }
   ],
   "source": [
    "sns.histplot(dataCpy['Log_AvgPurchaseGap'], bins=100 , kde=True)"
   ]
  },
  {
   "cell_type": "code",
   "execution_count": 67,
   "id": "1222ae33",
   "metadata": {},
   "outputs": [
    {
     "data": {
      "text/plain": [
       "1.0981047188351671"
      ]
     },
     "execution_count": 67,
     "metadata": {},
     "output_type": "execute_result"
    }
   ],
   "source": [
    "dataCpy['Log_AvgPurchaseGap'].skew()"
   ]
  },
  {
   "cell_type": "code",
   "execution_count": 68,
   "id": "4e704ae5",
   "metadata": {},
   "outputs": [],
   "source": [
    "#For better insights lets try:\n",
    "def gap_bin(gap):\n",
    "    if gap == 0:\n",
    "        return \"Single Purchase\"\n",
    "    elif gap <= 1:\n",
    "        return \"Frequent\"\n",
    "    elif gap <= 3:\n",
    "        return \"Moderate\"\n",
    "    elif gap <= 15:\n",
    "        return \"Occasional\"\n",
    "    else:\n",
    "        return \"Rare\"\n",
    "\n",
    "dataCpy['Gap_Label'] = dataCpy['AvgPurchaseGap'].apply(gap_bin)"
   ]
  },
  {
   "cell_type": "code",
   "execution_count": 69,
   "id": "df1c5a28",
   "metadata": {},
   "outputs": [
    {
     "data": {
      "text/plain": [
       "Gap_Label\n",
       "Frequent           6512.775281\n",
       "Moderate           2229.720739\n",
       "Occasional         1691.423547\n",
       "Rare               1028.600560\n",
       "Single Purchase     764.392779\n",
       "Name: CLV, dtype: float64"
      ]
     },
     "execution_count": 69,
     "metadata": {},
     "output_type": "execute_result"
    }
   ],
   "source": [
    "dataCpy.groupby('Gap_Label')['CLV'].mean()"
   ]
  },
  {
   "cell_type": "code",
   "execution_count": 70,
   "id": "0a3abb65",
   "metadata": {},
   "outputs": [
    {
     "data": {
      "text/plain": [
       "Gap_Label\n",
       "Moderate           881\n",
       "Occasional         654\n",
       "Single Purchase    587\n",
       "Frequent           498\n",
       "Rare                91\n",
       "Name: count, dtype: int64"
      ]
     },
     "execution_count": 70,
     "metadata": {},
     "output_type": "execute_result"
    }
   ],
   "source": [
    "dataCpy['Gap_Label'].value_counts()"
   ]
  },
  {
   "cell_type": "code",
   "execution_count": 71,
   "id": "0d42e9f2",
   "metadata": {},
   "outputs": [
    {
     "data": {
      "text/plain": [
       "Gap_Label        Churn\n",
       "Frequent         0        453\n",
       "                 1         45\n",
       "Moderate         0        802\n",
       "                 1         79\n",
       "Occasional       0        587\n",
       "                 1         67\n",
       "Rare             0         79\n",
       "                 1         12\n",
       "Single Purchase  0        360\n",
       "                 1        227\n",
       "Name: count, dtype: int64"
      ]
     },
     "execution_count": 71,
     "metadata": {},
     "output_type": "execute_result"
    }
   ],
   "source": [
    "dataCpy.groupby('Gap_Label')['Churn'].value_counts()"
   ]
  },
  {
   "cell_type": "code",
   "execution_count": 72,
   "id": "bea721d3",
   "metadata": {},
   "outputs": [
    {
     "data": {
      "text/html": [
       "<div>\n",
       "<style scoped>\n",
       "    .dataframe tbody tr th:only-of-type {\n",
       "        vertical-align: middle;\n",
       "    }\n",
       "\n",
       "    .dataframe tbody tr th {\n",
       "        vertical-align: top;\n",
       "    }\n",
       "\n",
       "    .dataframe thead th {\n",
       "        text-align: right;\n",
       "    }\n",
       "</style>\n",
       "<table border=\"1\" class=\"dataframe\">\n",
       "  <thead>\n",
       "    <tr style=\"text-align: right;\">\n",
       "      <th>Churn</th>\n",
       "      <th>0</th>\n",
       "      <th>1</th>\n",
       "    </tr>\n",
       "    <tr>\n",
       "      <th>Gap_Label</th>\n",
       "      <th></th>\n",
       "      <th></th>\n",
       "    </tr>\n",
       "  </thead>\n",
       "  <tbody>\n",
       "    <tr>\n",
       "      <th>Frequent</th>\n",
       "      <td>453</td>\n",
       "      <td>45</td>\n",
       "    </tr>\n",
       "    <tr>\n",
       "      <th>Moderate</th>\n",
       "      <td>802</td>\n",
       "      <td>79</td>\n",
       "    </tr>\n",
       "    <tr>\n",
       "      <th>Occasional</th>\n",
       "      <td>587</td>\n",
       "      <td>67</td>\n",
       "    </tr>\n",
       "    <tr>\n",
       "      <th>Rare</th>\n",
       "      <td>79</td>\n",
       "      <td>12</td>\n",
       "    </tr>\n",
       "    <tr>\n",
       "      <th>Single Purchase</th>\n",
       "      <td>360</td>\n",
       "      <td>227</td>\n",
       "    </tr>\n",
       "  </tbody>\n",
       "</table>\n",
       "</div>"
      ],
      "text/plain": [
       "Churn              0    1\n",
       "Gap_Label                \n",
       "Frequent         453   45\n",
       "Moderate         802   79\n",
       "Occasional       587   67\n",
       "Rare              79   12\n",
       "Single Purchase  360  227"
      ]
     },
     "execution_count": 72,
     "metadata": {},
     "output_type": "execute_result"
    }
   ],
   "source": [
    "pd.crosstab(dataCpy['Gap_Label'], dataCpy['Churn'])\n",
    "#Single purchase customers churn the most → Very likely one-time buyers."
   ]
  },
  {
   "cell_type": "markdown",
   "id": "af8dba92",
   "metadata": {},
   "source": [
    "#### Trend and Churn"
   ]
  },
  {
   "cell_type": "code",
   "execution_count": 73,
   "id": "eeadab9e",
   "metadata": {},
   "outputs": [
    {
     "data": {
      "text/plain": [
       "Trend\n",
       "Increasing    1508\n",
       "Decreasing     793\n",
       "Flag           393\n",
       "Stable          17\n",
       "Name: count, dtype: int64"
      ]
     },
     "execution_count": 73,
     "metadata": {},
     "output_type": "execute_result"
    }
   ],
   "source": [
    "dataCpy['Trend'].value_counts()"
   ]
  },
  {
   "cell_type": "code",
   "execution_count": 74,
   "id": "3ddc139c",
   "metadata": {},
   "outputs": [
    {
     "data": {
      "text/plain": [
       "Trend\n",
       "Decreasing    0.436318\n",
       "Flag          0.000000\n",
       "Increasing    0.054377\n",
       "Stable        0.117647\n",
       "Name: Churn, dtype: float64"
      ]
     },
     "execution_count": 74,
     "metadata": {},
     "output_type": "execute_result"
    }
   ],
   "source": [
    "dataCpy.groupby('Trend')['Churn'].mean()"
   ]
  },
  {
   "cell_type": "code",
   "execution_count": 75,
   "id": "6fefa2f7",
   "metadata": {},
   "outputs": [
    {
     "data": {
      "text/plain": [
       "Churn\n",
       "0    2281\n",
       "1     430\n",
       "Name: count, dtype: int64"
      ]
     },
     "execution_count": 75,
     "metadata": {},
     "output_type": "execute_result"
    }
   ],
   "source": [
    "dataCpy['Churn'].value_counts()"
   ]
  },
  {
   "cell_type": "code",
   "execution_count": 76,
   "id": "04c85ef8",
   "metadata": {},
   "outputs": [
    {
     "data": {
      "text/plain": [
       "Churn\n",
       "0    2827.313741\n",
       "1     946.827047\n",
       "Name: CLV, dtype: float64"
      ]
     },
     "execution_count": 76,
     "metadata": {},
     "output_type": "execute_result"
    }
   ],
   "source": [
    "dataCpy.groupby('Churn')['CLV'].mean()"
   ]
  },
  {
   "cell_type": "markdown",
   "id": "4d9d9d78",
   "metadata": {},
   "source": [
    "#### Churn Labeling – Critical Observation\n",
    "\n",
    "The current churn logic might be overly simplistic and not fully representative of actual customer behavior.\n",
    "\n",
    "##### Logic Used (PseudoChurn):\n",
    "> Customers who were inactive in the last 2 quarters (Q5 and Q6) are labeled as churned.\n",
    "\n",
    "##### Why This Might Be Inaccurate:\n",
    "- Misses **seasonal buyers** who tend to purchase only during specific times of the year.\n",
    "- May falsely classify **high-value, one-time buyers** as churned.\n",
    "---\n",
    "\n",
    "#### Plan of Action:\n",
    "- **Rename** the existing churn label to `PseudoChurn`.\n",
    "- **Engineer a more reliable `Churn` label** that incorporates multiple behavioral factors to improve prediction quality."
   ]
  },
  {
   "cell_type": "code",
   "execution_count": 77,
   "id": "b87b1950",
   "metadata": {},
   "outputs": [],
   "source": [
    "dataCpy.rename(columns={'Churn': 'PseudoChurn'}, inplace=True)"
   ]
  },
  {
   "cell_type": "code",
   "execution_count": 78,
   "id": "ecb0d1e0",
   "metadata": {},
   "outputs": [],
   "source": [
    "median_clv = dataCpy['CLV'].median()"
   ]
  },
  {
   "cell_type": "code",
   "execution_count": 79,
   "id": "bf439b8a",
   "metadata": {},
   "outputs": [],
   "source": [
    "def refined_churn(row):\n",
    "    purchase_count = row['PurchaseFrequency']\n",
    "    recent_inactive = row['PseudoChurn'] == 1 #Inactive in last 2 quarters\n",
    "    low_clv = row['CLV'] < median_clv\n",
    "    \n",
    "    return int((purchase_count >= 2) and recent_inactive and low_clv)\n",
    "\n",
    "dataCpy['Churn'] = dataCpy.apply(refined_churn, axis=1)"
   ]
  },
  {
   "cell_type": "code",
   "execution_count": 80,
   "id": "8f43fb0e",
   "metadata": {},
   "outputs": [
    {
     "data": {
      "text/plain": [
       "Churn\n",
       "0    2561\n",
       "1     150\n",
       "Name: count, dtype: int64"
      ]
     },
     "execution_count": 80,
     "metadata": {},
     "output_type": "execute_result"
    }
   ],
   "source": [
    "dataCpy['Churn'].value_counts()"
   ]
  },
  {
   "cell_type": "code",
   "execution_count": 81,
   "id": "ee75f752",
   "metadata": {},
   "outputs": [
    {
     "data": {
      "text/plain": [
       "Churn\n",
       "0    2656.731938\n",
       "1     348.985200\n",
       "Name: CLV, dtype: float64"
      ]
     },
     "execution_count": 81,
     "metadata": {},
     "output_type": "execute_result"
    }
   ],
   "source": [
    "dataCpy.groupby('Churn')['CLV'].mean()\n",
    "#Churned customers contribute significantly less revenue"
   ]
  },
  {
   "cell_type": "code",
   "execution_count": 82,
   "id": "cfcd71f5",
   "metadata": {},
   "outputs": [
    {
     "data": {
      "text/plain": [
       "Trend\n",
       "Decreasing    0.165195\n",
       "Flag          0.000000\n",
       "Increasing    0.012599\n",
       "Stable        0.000000\n",
       "Name: Churn, dtype: float64"
      ]
     },
     "execution_count": 82,
     "metadata": {},
     "output_type": "execute_result"
    }
   ],
   "source": [
    "dataCpy.groupby('Trend')['Churn'].mean()\n",
    "#Now, this is strong"
   ]
  },
  {
   "cell_type": "markdown",
   "id": "f36b54dc",
   "metadata": {},
   "source": [
    "#### Verdict: The New Churn Is Trustworthy\n",
    "---"
   ]
  },
  {
   "cell_type": "markdown",
   "id": "1a9d99c5",
   "metadata": {},
   "source": [
    "#### Trend"
   ]
  },
  {
   "cell_type": "code",
   "execution_count": 83,
   "id": "ac074744",
   "metadata": {},
   "outputs": [
    {
     "data": {
      "text/plain": [
       "Trend\n",
       "Increasing    1508\n",
       "Decreasing     793\n",
       "Flag           393\n",
       "Stable          17\n",
       "Name: count, dtype: int64"
      ]
     },
     "execution_count": 83,
     "metadata": {},
     "output_type": "execute_result"
    }
   ],
   "source": [
    "dataCpy['Trend'].value_counts()"
   ]
  },
  {
   "cell_type": "code",
   "execution_count": 84,
   "id": "91f57a09",
   "metadata": {},
   "outputs": [
    {
     "data": {
      "text/html": [
       "<div>\n",
       "<style scoped>\n",
       "    .dataframe tbody tr th:only-of-type {\n",
       "        vertical-align: middle;\n",
       "    }\n",
       "\n",
       "    .dataframe tbody tr th {\n",
       "        vertical-align: top;\n",
       "    }\n",
       "\n",
       "    .dataframe thead th {\n",
       "        text-align: right;\n",
       "    }\n",
       "</style>\n",
       "<table border=\"1\" class=\"dataframe\">\n",
       "  <thead>\n",
       "    <tr style=\"text-align: right;\">\n",
       "      <th>Churn</th>\n",
       "      <th>0</th>\n",
       "      <th>1</th>\n",
       "    </tr>\n",
       "    <tr>\n",
       "      <th>Trend</th>\n",
       "      <th></th>\n",
       "      <th></th>\n",
       "    </tr>\n",
       "  </thead>\n",
       "  <tbody>\n",
       "    <tr>\n",
       "      <th>Decreasing</th>\n",
       "      <td>662</td>\n",
       "      <td>131</td>\n",
       "    </tr>\n",
       "    <tr>\n",
       "      <th>Flag</th>\n",
       "      <td>393</td>\n",
       "      <td>0</td>\n",
       "    </tr>\n",
       "    <tr>\n",
       "      <th>Increasing</th>\n",
       "      <td>1489</td>\n",
       "      <td>19</td>\n",
       "    </tr>\n",
       "    <tr>\n",
       "      <th>Stable</th>\n",
       "      <td>17</td>\n",
       "      <td>0</td>\n",
       "    </tr>\n",
       "  </tbody>\n",
       "</table>\n",
       "</div>"
      ],
      "text/plain": [
       "Churn          0    1\n",
       "Trend                \n",
       "Decreasing   662  131\n",
       "Flag         393    0\n",
       "Increasing  1489   19\n",
       "Stable        17    0"
      ]
     },
     "execution_count": 84,
     "metadata": {},
     "output_type": "execute_result"
    }
   ],
   "source": [
    "pd.crosstab(dataCpy['Trend'], dataCpy['Churn'])"
   ]
  },
  {
   "cell_type": "code",
   "execution_count": 85,
   "id": "0a4a5128",
   "metadata": {
    "scrolled": true
   },
   "outputs": [
    {
     "data": {
      "text/plain": [
       "Trend\n",
       "Decreasing    2273.915602\n",
       "Flag          1214.490662\n",
       "Increasing    3026.119165\n",
       "Stable         725.921765\n",
       "Name: CLV, dtype: float64"
      ]
     },
     "execution_count": 85,
     "metadata": {},
     "output_type": "execute_result"
    }
   ],
   "source": [
    "dataCpy.groupby('Trend')['CLV'].mean()"
   ]
  },
  {
   "cell_type": "code",
   "execution_count": 87,
   "id": "79f73c6e",
   "metadata": {},
   "outputs": [],
   "source": [
    "flag_df = dataCpy[dataCpy['Trend'] == 'Flag'].copy()"
   ]
  },
  {
   "cell_type": "code",
   "execution_count": 88,
   "id": "d19e8106",
   "metadata": {},
   "outputs": [
    {
     "data": {
      "text/plain": [
       "count      393.000000\n",
       "mean       670.193053\n",
       "std       1247.833551\n",
       "min         21.000000\n",
       "25%        232.270000\n",
       "50%        372.220000\n",
       "75%        681.650000\n",
       "max      13544.990000\n",
       "Name: TotalSpend, dtype: float64"
      ]
     },
     "execution_count": 88,
     "metadata": {},
     "output_type": "execute_result"
    }
   ],
   "source": [
    "flag_df['TotalSpend'].describe()"
   ]
  },
  {
   "cell_type": "code",
   "execution_count": 89,
   "id": "a33b0145",
   "metadata": {},
   "outputs": [],
   "source": [
    "dataCpy['Trend_Refined'] = dataCpy['Trend']"
   ]
  },
  {
   "cell_type": "code",
   "execution_count": 90,
   "id": "a7e20c15",
   "metadata": {},
   "outputs": [],
   "source": [
    "def classify_flag(s):\n",
    "    return 'New Buyer' if s <= 600 else 'Seasonal Buyer'\n",
    "\n",
    "mask = dataCpy['Trend'] == 'Flag'\n",
    "dataCpy.loc[mask, 'Trend_Refined'] = dataCpy.loc[mask, 'TotalSpend'].apply(classify_flag)"
   ]
  },
  {
   "cell_type": "code",
   "execution_count": 91,
   "id": "c1585b97",
   "metadata": {},
   "outputs": [
    {
     "data": {
      "text/plain": [
       "Trend_Refined\n",
       "Increasing        1508\n",
       "Decreasing         793\n",
       "New Buyer          274\n",
       "Seasonal Buyer     119\n",
       "Stable              17\n",
       "Name: count, dtype: int64"
      ]
     },
     "execution_count": 91,
     "metadata": {},
     "output_type": "execute_result"
    }
   ],
   "source": [
    "dataCpy['Trend_Refined'].value_counts()"
   ]
  },
  {
   "cell_type": "code",
   "execution_count": 92,
   "id": "5976e44a",
   "metadata": {},
   "outputs": [
    {
     "data": {
      "text/plain": [
       "Trend_Refined\n",
       "Decreasing        2273.915602\n",
       "Increasing        3026.119165\n",
       "New Buyer          647.087701\n",
       "Seasonal Buyer    2520.947899\n",
       "Stable             725.921765\n",
       "Name: CLV, dtype: float64"
      ]
     },
     "execution_count": 92,
     "metadata": {},
     "output_type": "execute_result"
    }
   ],
   "source": [
    "dataCpy.groupby('Trend_Refined')['CLV'].mean()"
   ]
  },
  {
   "cell_type": "code",
   "execution_count": 93,
   "id": "87aff42d",
   "metadata": {},
   "outputs": [],
   "source": [
    "#New Buyers: Low CLV, aligns with typical behavior of first-time buyers.\n",
    "#Seasonal Buyers: As expected! High spenders who buy in specific periods. Likely to return annually."
   ]
  },
  {
   "cell_type": "markdown",
   "id": "42506773",
   "metadata": {},
   "source": [
    "#### Return Rate"
   ]
  },
  {
   "cell_type": "code",
   "execution_count": 94,
   "id": "78c41707",
   "metadata": {},
   "outputs": [
    {
     "data": {
      "text/plain": [
       "count    2711.000000\n",
       "mean        0.015244\n",
       "std         0.051414\n",
       "min         0.000000\n",
       "25%         0.000000\n",
       "50%         0.000000\n",
       "75%         0.009980\n",
       "max         0.750000\n",
       "Name: ReturnRate, dtype: float64"
      ]
     },
     "execution_count": 94,
     "metadata": {},
     "output_type": "execute_result"
    }
   ],
   "source": [
    "dataCpy['ReturnRate'].describe()"
   ]
  },
  {
   "cell_type": "code",
   "execution_count": 95,
   "id": "093c8c04",
   "metadata": {},
   "outputs": [
    {
     "data": {
      "text/plain": [
       "7.384099304825433"
      ]
     },
     "execution_count": 95,
     "metadata": {},
     "output_type": "execute_result"
    }
   ],
   "source": [
    "dataCpy['ReturnRate'].skew() #Skewed"
   ]
  },
  {
   "cell_type": "code",
   "execution_count": 96,
   "id": "51b09a40",
   "metadata": {},
   "outputs": [
    {
     "data": {
      "text/plain": [
       "<Axes: xlabel='ReturnRate', ylabel='Count'>"
      ]
     },
     "execution_count": 96,
     "metadata": {},
     "output_type": "execute_result"
    },
    {
     "data": {
      "image/png": "[encoded data removed]",
      "text/plain": [
       "<Figure size 640x480 with 1 Axes>"
      ]
     },
     "metadata": {},
     "output_type": "display_data"
    }
   ],
   "source": [
    "sns.histplot(dataCpy['ReturnRate'], bins=50, kde=True)"
   ]
  },
  {
   "cell_type": "code",
   "execution_count": 97,
   "id": "b6c4f967",
   "metadata": {},
   "outputs": [],
   "source": [
    "def return_rate_label(rr):\n",
    "    if rr == 0:\n",
    "        return \"No Return\"\n",
    "    elif rr <= 0.05:\n",
    "        return \"Occasional Returner\"\n",
    "    elif rr <= 0.2:\n",
    "        return \"Frequent Returner\"\n",
    "    else:\n",
    "        return \"High Returner\"\n",
    "        \n",
    "dataCpy['Return_Label'] = dataCpy['ReturnRate'].apply(return_rate_label)"
   ]
  },
  {
   "cell_type": "code",
   "execution_count": 98,
   "id": "cc8994ce",
   "metadata": {},
   "outputs": [
    {
     "data": {
      "text/plain": [
       "Return_Label\n",
       "No Return              1374\n",
       "Occasional Returner    1160\n",
       "Frequent Returner       137\n",
       "High Returner            40\n",
       "Name: count, dtype: int64"
      ]
     },
     "execution_count": 98,
     "metadata": {},
     "output_type": "execute_result"
    }
   ],
   "source": [
    "dataCpy['Return_Label'].value_counts()"
   ]
  },
  {
   "cell_type": "code",
   "execution_count": 99,
   "id": "c3175a34",
   "metadata": {},
   "outputs": [
    {
     "data": {
      "text/plain": [
       "Return_Label\n",
       "Frequent Returner      3586.259854\n",
       "High Returner          4359.270250\n",
       "No Return              1198.507133\n",
       "Occasional Returner    3917.069881\n",
       "Name: CLV, dtype: float64"
      ]
     },
     "execution_count": 99,
     "metadata": {},
     "output_type": "execute_result"
    }
   ],
   "source": [
    "dataCpy.groupby('Return_Label')['CLV'].mean()"
   ]
  },
  {
   "cell_type": "code",
   "execution_count": 100,
   "id": "31fef8d5",
   "metadata": {},
   "outputs": [
    {
     "data": {
      "text/plain": [
       "Return_Label\n",
       "Frequent Returner      6.321168\n",
       "High Returner          5.700000\n",
       "No Return              2.933042\n",
       "Occasional Returner    8.633621\n",
       "Name: PurchaseFrequency, dtype: float64"
      ]
     },
     "execution_count": 100,
     "metadata": {},
     "output_type": "execute_result"
    }
   ],
   "source": [
    "dataCpy.groupby('Return_Label')['PurchaseFrequency'].mean()"
   ]
  },
  {
   "cell_type": "code",
   "execution_count": 101,
   "id": "40000e72",
   "metadata": {},
   "outputs": [
    {
     "data": {
      "text/plain": [
       "Return_Label\n",
       "Frequent Returner      0.072993\n",
       "High Returner          0.150000\n",
       "No Return              0.064047\n",
       "Occasional Returner    0.039655\n",
       "Name: Churn, dtype: float64"
      ]
     },
     "execution_count": 101,
     "metadata": {},
     "output_type": "execute_result"
    }
   ],
   "source": [
    "dataCpy.groupby('Return_Label')['Churn'].mean()"
   ]
  },
  {
   "cell_type": "code",
   "execution_count": 102,
   "id": "0513db25",
   "metadata": {},
   "outputs": [
    {
     "name": "stdout",
     "output_type": "stream",
     "text": [
      "<class 'pandas.core.frame.DataFrame'>\n",
      "RangeIndex: 2711 entries, 0 to 2710\n",
      "Data columns (total 25 columns):\n",
      " #   Column                 Non-Null Count  Dtype   \n",
      "---  ------                 --------------  -----   \n",
      " 0   TotalSpend             2711 non-null   float64 \n",
      " 1   PurchaseFrequency      2711 non-null   int64   \n",
      " 2   OrderHabit             2711 non-null   float64 \n",
      " 3   Recency                2711 non-null   int64   \n",
      " 4   AvgPurchaseGap         2711 non-null   float64 \n",
      " 5   Trend                  2711 non-null   object  \n",
      " 6   PseudoChurn            2711 non-null   int64   \n",
      " 7   ReturnRate             2711 non-null   float64 \n",
      " 8   CLV                    2711 non-null   float64 \n",
      " 9   Log_TotalSpend         2711 non-null   float64 \n",
      " 10  Log_PurchaseFrequency  2711 non-null   float64 \n",
      " 11  BC_PurchaseFrequency   2711 non-null   float64 \n",
      " 12  PurchaseFreq_Label     2711 non-null   category\n",
      " 13  IsFrequentBuyer        2711 non-null   int32   \n",
      " 14  Log_OrderHabit         2711 non-null   float64 \n",
      " 15  OrderHabit_Label       2711 non-null   category\n",
      " 16  Log_Recency            2711 non-null   float64 \n",
      " 17  BC_Recency             2711 non-null   float64 \n",
      " 18  Recency_Label          2622 non-null   category\n",
      " 19  Recency_QBin           2711 non-null   category\n",
      " 20  Log_AvgPurchaseGap     2711 non-null   float64 \n",
      " 21  Gap_Label              2711 non-null   object  \n",
      " 22  Churn                  2711 non-null   int64   \n",
      " 23  Trend_Refined          2711 non-null   object  \n",
      " 24  Return_Label           2711 non-null   object  \n",
      "dtypes: category(4), float64(12), int32(1), int64(4), object(4)\n",
      "memory usage: 445.7+ KB\n"
     ]
    }
   ],
   "source": [
    "dataCpy.info()"
   ]
  },
  {
   "cell_type": "code",
   "execution_count": 103,
   "id": "e501ba0a",
   "metadata": {
    "scrolled": true
   },
   "outputs": [
    {
     "data": {
      "text/html": [
       "<div>\n",
       "<style scoped>\n",
       "    .dataframe tbody tr th:only-of-type {\n",
       "        vertical-align: middle;\n",
       "    }\n",
       "\n",
       "    .dataframe tbody tr th {\n",
       "        vertical-align: top;\n",
       "    }\n",
       "\n",
       "    .dataframe thead th {\n",
       "        text-align: right;\n",
       "    }\n",
       "</style>\n",
       "<table border=\"1\" class=\"dataframe\">\n",
       "  <thead>\n",
       "    <tr style=\"text-align: right;\">\n",
       "      <th></th>\n",
       "      <th>TotalSpend</th>\n",
       "      <th>PurchaseFrequency</th>\n",
       "      <th>OrderHabit</th>\n",
       "      <th>Recency</th>\n",
       "      <th>AvgPurchaseGap</th>\n",
       "      <th>Trend</th>\n",
       "      <th>PseudoChurn</th>\n",
       "      <th>ReturnRate</th>\n",
       "      <th>CLV</th>\n",
       "      <th>Log_TotalSpend</th>\n",
       "      <th>...</th>\n",
       "      <th>OrderHabit_Label</th>\n",
       "      <th>Log_Recency</th>\n",
       "      <th>BC_Recency</th>\n",
       "      <th>Recency_Label</th>\n",
       "      <th>Recency_QBin</th>\n",
       "      <th>Log_AvgPurchaseGap</th>\n",
       "      <th>Gap_Label</th>\n",
       "      <th>Churn</th>\n",
       "      <th>Trend_Refined</th>\n",
       "      <th>Return_Label</th>\n",
       "    </tr>\n",
       "  </thead>\n",
       "  <tbody>\n",
       "    <tr>\n",
       "      <th>0</th>\n",
       "      <td>169.36</td>\n",
       "      <td>2</td>\n",
       "      <td>12.0</td>\n",
       "      <td>155</td>\n",
       "      <td>5.130435</td>\n",
       "      <td>Increasing</td>\n",
       "      <td>1</td>\n",
       "      <td>0.428571</td>\n",
       "      <td>77183.60</td>\n",
       "      <td>5.137914</td>\n",
       "      <td>...</td>\n",
       "      <td>Light Buyer</td>\n",
       "      <td>5.049856</td>\n",
       "      <td>7.041233</td>\n",
       "      <td>Mid Term</td>\n",
       "      <td>Dormant</td>\n",
       "      <td>1.813266</td>\n",
       "      <td>Occasional</td>\n",
       "      <td>0</td>\n",
       "      <td>Increasing</td>\n",
       "      <td>High Returner</td>\n",
       "    </tr>\n",
       "    <tr>\n",
       "      <th>1</th>\n",
       "      <td>611.53</td>\n",
       "      <td>1</td>\n",
       "      <td>509.0</td>\n",
       "      <td>30</td>\n",
       "      <td>0.000000</td>\n",
       "      <td>Flag</td>\n",
       "      <td>0</td>\n",
       "      <td>0.000000</td>\n",
       "      <td>4085.18</td>\n",
       "      <td>6.417598</td>\n",
       "      <td>...</td>\n",
       "      <td>Bulk Buyer</td>\n",
       "      <td>3.433987</td>\n",
       "      <td>4.289556</td>\n",
       "      <td>Very Recent</td>\n",
       "      <td>Mid Term</td>\n",
       "      <td>0.000000</td>\n",
       "      <td>Single Purchase</td>\n",
       "      <td>0</td>\n",
       "      <td>Seasonal Buyer</td>\n",
       "      <td>No Return</td>\n",
       "    </tr>\n",
       "    <tr>\n",
       "      <th>2</th>\n",
       "      <td>222.16</td>\n",
       "      <td>1</td>\n",
       "      <td>373.0</td>\n",
       "      <td>64</td>\n",
       "      <td>0.000000</td>\n",
       "      <td>Increasing</td>\n",
       "      <td>0</td>\n",
       "      <td>0.000000</td>\n",
       "      <td>1797.24</td>\n",
       "      <td>5.407889</td>\n",
       "      <td>...</td>\n",
       "      <td>Bulk Buyer</td>\n",
       "      <td>4.174387</td>\n",
       "      <td>5.481602</td>\n",
       "      <td>Recent</td>\n",
       "      <td>Old</td>\n",
       "      <td>0.000000</td>\n",
       "      <td>Single Purchase</td>\n",
       "      <td>0</td>\n",
       "      <td>Increasing</td>\n",
       "      <td>No Return</td>\n",
       "    </tr>\n",
       "    <tr>\n",
       "      <th>3</th>\n",
       "      <td>2671.14</td>\n",
       "      <td>3</td>\n",
       "      <td>331.0</td>\n",
       "      <td>33</td>\n",
       "      <td>1.782178</td>\n",
       "      <td>Increasing</td>\n",
       "      <td>0</td>\n",
       "      <td>0.005010</td>\n",
       "      <td>1757.55</td>\n",
       "      <td>7.890635</td>\n",
       "      <td>...</td>\n",
       "      <td>Bulk Buyer</td>\n",
       "      <td>3.526361</td>\n",
       "      <td>4.432320</td>\n",
       "      <td>Very Recent</td>\n",
       "      <td>Mid Term</td>\n",
       "      <td>1.023234</td>\n",
       "      <td>Moderate</td>\n",
       "      <td>0</td>\n",
       "      <td>Increasing</td>\n",
       "      <td>Occasional Returner</td>\n",
       "    </tr>\n",
       "    <tr>\n",
       "      <th>4</th>\n",
       "      <td>343.80</td>\n",
       "      <td>2</td>\n",
       "      <td>94.0</td>\n",
       "      <td>1</td>\n",
       "      <td>0.941176</td>\n",
       "      <td>Flag</td>\n",
       "      <td>0</td>\n",
       "      <td>0.000000</td>\n",
       "      <td>1665.74</td>\n",
       "      <td>5.842965</td>\n",
       "      <td>...</td>\n",
       "      <td>Moderate Buyer</td>\n",
       "      <td>0.693147</td>\n",
       "      <td>0.724086</td>\n",
       "      <td>Very Recent</td>\n",
       "      <td>Very Recent</td>\n",
       "      <td>0.663294</td>\n",
       "      <td>Frequent</td>\n",
       "      <td>0</td>\n",
       "      <td>New Buyer</td>\n",
       "      <td>No Return</td>\n",
       "    </tr>\n",
       "  </tbody>\n",
       "</table>\n",
       "<p>5 rows × 25 columns</p>\n",
       "</div>"
      ],
      "text/plain": [
       "   TotalSpend  PurchaseFrequency  OrderHabit  Recency  AvgPurchaseGap  \\\n",
       "0      169.36                  2        12.0      155        5.130435   \n",
       "1      611.53                  1       509.0       30        0.000000   \n",
       "2      222.16                  1       373.0       64        0.000000   \n",
       "3     2671.14                  3       331.0       33        1.782178   \n",
       "4      343.80                  2        94.0        1        0.941176   \n",
       "\n",
       "        Trend  PseudoChurn  ReturnRate       CLV  Log_TotalSpend  ...  \\\n",
       "0  Increasing            1    0.428571  77183.60        5.137914  ...   \n",
       "1        Flag            0    0.000000   4085.18        6.417598  ...   \n",
       "2  Increasing            0    0.000000   1797.24        5.407889  ...   \n",
       "3  Increasing            0    0.005010   1757.55        7.890635  ...   \n",
       "4        Flag            0    0.000000   1665.74        5.842965  ...   \n",
       "\n",
       "   OrderHabit_Label  Log_Recency BC_Recency  Recency_Label  Recency_QBin  \\\n",
       "0       Light Buyer     5.049856   7.041233       Mid Term       Dormant   \n",
       "1        Bulk Buyer     3.433987   4.289556    Very Recent      Mid Term   \n",
       "2        Bulk Buyer     4.174387   5.481602         Recent           Old   \n",
       "3        Bulk Buyer     3.526361   4.432320    Very Recent      Mid Term   \n",
       "4    Moderate Buyer     0.693147   0.724086    Very Recent   Very Recent   \n",
       "\n",
       "  Log_AvgPurchaseGap        Gap_Label  Churn   Trend_Refined  \\\n",
       "0           1.813266       Occasional      0      Increasing   \n",
       "1           0.000000  Single Purchase      0  Seasonal Buyer   \n",
       "2           0.000000  Single Purchase      0      Increasing   \n",
       "3           1.023234         Moderate      0      Increasing   \n",
       "4           0.663294         Frequent      0       New Buyer   \n",
       "\n",
       "          Return_Label  \n",
       "0        High Returner  \n",
       "1            No Return  \n",
       "2            No Return  \n",
       "3  Occasional Returner  \n",
       "4            No Return  \n",
       "\n",
       "[5 rows x 25 columns]"
      ]
     },
     "execution_count": 103,
     "metadata": {},
     "output_type": "execute_result"
    }
   ],
   "source": [
    "dataCpy.head()"
   ]
  },
  {
   "cell_type": "code",
   "execution_count": 106,
   "id": "2764867e",
   "metadata": {},
   "outputs": [],
   "source": [
    "dataCpy['SpendPerOrder'] = dataCpy['TotalSpend'] / dataCpy['PurchaseFrequency']\n",
    "dataCpy['SpendRate'] = dataCpy['TotalSpend'] / dataCpy['Recency']\n",
    "dataCpy['GapPerOrder'] = dataCpy['AvgPurchaseGap'] / dataCpy['PurchaseFrequency']"
   ]
  },
  {
   "cell_type": "code",
   "execution_count": 108,
   "id": "bd66fdc6",
   "metadata": {},
   "outputs": [],
   "source": [
    "dataCpy['Log_SpendRate'] = np.log1p(dataCpy['SpendRate'])"
   ]
  },
  {
   "cell_type": "code",
   "execution_count": 109,
   "id": "c0b37b71",
   "metadata": {},
   "outputs": [
    {
     "data": {
      "text/html": [
       "<div>\n",
       "<style scoped>\n",
       "    .dataframe tbody tr th:only-of-type {\n",
       "        vertical-align: middle;\n",
       "    }\n",
       "\n",
       "    .dataframe tbody tr th {\n",
       "        vertical-align: top;\n",
       "    }\n",
       "\n",
       "    .dataframe thead th {\n",
       "        text-align: right;\n",
       "    }\n",
       "</style>\n",
       "<table border=\"1\" class=\"dataframe\">\n",
       "  <thead>\n",
       "    <tr style=\"text-align: right;\">\n",
       "      <th></th>\n",
       "      <th>TotalSpend</th>\n",
       "      <th>PurchaseFrequency</th>\n",
       "      <th>OrderHabit</th>\n",
       "      <th>Recency</th>\n",
       "      <th>AvgPurchaseGap</th>\n",
       "      <th>Trend</th>\n",
       "      <th>PseudoChurn</th>\n",
       "      <th>ReturnRate</th>\n",
       "      <th>CLV</th>\n",
       "      <th>Log_TotalSpend</th>\n",
       "      <th>...</th>\n",
       "      <th>Recency_QBin</th>\n",
       "      <th>Log_AvgPurchaseGap</th>\n",
       "      <th>Gap_Label</th>\n",
       "      <th>Churn</th>\n",
       "      <th>Trend_Refined</th>\n",
       "      <th>Return_Label</th>\n",
       "      <th>SpendPerOrder</th>\n",
       "      <th>SpendRate</th>\n",
       "      <th>GapPerOrder</th>\n",
       "      <th>Log_SpendRate</th>\n",
       "    </tr>\n",
       "  </thead>\n",
       "  <tbody>\n",
       "    <tr>\n",
       "      <th>0</th>\n",
       "      <td>169.36</td>\n",
       "      <td>2</td>\n",
       "      <td>12.00</td>\n",
       "      <td>155</td>\n",
       "      <td>5.130435</td>\n",
       "      <td>Increasing</td>\n",
       "      <td>1</td>\n",
       "      <td>0.428571</td>\n",
       "      <td>77183.60</td>\n",
       "      <td>5.137914</td>\n",
       "      <td>...</td>\n",
       "      <td>Dormant</td>\n",
       "      <td>1.813266</td>\n",
       "      <td>Occasional</td>\n",
       "      <td>0</td>\n",
       "      <td>Increasing</td>\n",
       "      <td>High Returner</td>\n",
       "      <td>84.680000</td>\n",
       "      <td>1.092645</td>\n",
       "      <td>2.565217</td>\n",
       "      <td>0.738429</td>\n",
       "    </tr>\n",
       "    <tr>\n",
       "      <th>1</th>\n",
       "      <td>611.53</td>\n",
       "      <td>1</td>\n",
       "      <td>509.00</td>\n",
       "      <td>30</td>\n",
       "      <td>0.000000</td>\n",
       "      <td>Flag</td>\n",
       "      <td>0</td>\n",
       "      <td>0.000000</td>\n",
       "      <td>4085.18</td>\n",
       "      <td>6.417598</td>\n",
       "      <td>...</td>\n",
       "      <td>Mid Term</td>\n",
       "      <td>0.000000</td>\n",
       "      <td>Single Purchase</td>\n",
       "      <td>0</td>\n",
       "      <td>Seasonal Buyer</td>\n",
       "      <td>No Return</td>\n",
       "      <td>611.530000</td>\n",
       "      <td>20.384333</td>\n",
       "      <td>0.000000</td>\n",
       "      <td>3.062659</td>\n",
       "    </tr>\n",
       "    <tr>\n",
       "      <th>2</th>\n",
       "      <td>222.16</td>\n",
       "      <td>1</td>\n",
       "      <td>373.00</td>\n",
       "      <td>64</td>\n",
       "      <td>0.000000</td>\n",
       "      <td>Increasing</td>\n",
       "      <td>0</td>\n",
       "      <td>0.000000</td>\n",
       "      <td>1797.24</td>\n",
       "      <td>5.407889</td>\n",
       "      <td>...</td>\n",
       "      <td>Old</td>\n",
       "      <td>0.000000</td>\n",
       "      <td>Single Purchase</td>\n",
       "      <td>0</td>\n",
       "      <td>Increasing</td>\n",
       "      <td>No Return</td>\n",
       "      <td>222.160000</td>\n",
       "      <td>3.471250</td>\n",
       "      <td>0.000000</td>\n",
       "      <td>1.497668</td>\n",
       "    </tr>\n",
       "    <tr>\n",
       "      <th>3</th>\n",
       "      <td>2671.14</td>\n",
       "      <td>3</td>\n",
       "      <td>331.00</td>\n",
       "      <td>33</td>\n",
       "      <td>1.782178</td>\n",
       "      <td>Increasing</td>\n",
       "      <td>0</td>\n",
       "      <td>0.005010</td>\n",
       "      <td>1757.55</td>\n",
       "      <td>7.890635</td>\n",
       "      <td>...</td>\n",
       "      <td>Mid Term</td>\n",
       "      <td>1.023234</td>\n",
       "      <td>Moderate</td>\n",
       "      <td>0</td>\n",
       "      <td>Increasing</td>\n",
       "      <td>Occasional Returner</td>\n",
       "      <td>890.380000</td>\n",
       "      <td>80.943636</td>\n",
       "      <td>0.594059</td>\n",
       "      <td>4.406032</td>\n",
       "    </tr>\n",
       "    <tr>\n",
       "      <th>4</th>\n",
       "      <td>343.80</td>\n",
       "      <td>2</td>\n",
       "      <td>94.00</td>\n",
       "      <td>1</td>\n",
       "      <td>0.941176</td>\n",
       "      <td>Flag</td>\n",
       "      <td>0</td>\n",
       "      <td>0.000000</td>\n",
       "      <td>1665.74</td>\n",
       "      <td>5.842965</td>\n",
       "      <td>...</td>\n",
       "      <td>Very Recent</td>\n",
       "      <td>0.663294</td>\n",
       "      <td>Frequent</td>\n",
       "      <td>0</td>\n",
       "      <td>New Buyer</td>\n",
       "      <td>No Return</td>\n",
       "      <td>171.900000</td>\n",
       "      <td>343.800000</td>\n",
       "      <td>0.470588</td>\n",
       "      <td>5.842965</td>\n",
       "    </tr>\n",
       "    <tr>\n",
       "      <th>...</th>\n",
       "      <td>...</td>\n",
       "      <td>...</td>\n",
       "      <td>...</td>\n",
       "      <td>...</td>\n",
       "      <td>...</td>\n",
       "      <td>...</td>\n",
       "      <td>...</td>\n",
       "      <td>...</td>\n",
       "      <td>...</td>\n",
       "      <td>...</td>\n",
       "      <td>...</td>\n",
       "      <td>...</td>\n",
       "      <td>...</td>\n",
       "      <td>...</td>\n",
       "      <td>...</td>\n",
       "      <td>...</td>\n",
       "      <td>...</td>\n",
       "      <td>...</td>\n",
       "      <td>...</td>\n",
       "      <td>...</td>\n",
       "      <td>...</td>\n",
       "    </tr>\n",
       "    <tr>\n",
       "      <th>2706</th>\n",
       "      <td>240.30</td>\n",
       "      <td>1</td>\n",
       "      <td>74.00</td>\n",
       "      <td>30</td>\n",
       "      <td>0.000000</td>\n",
       "      <td>Flag</td>\n",
       "      <td>0</td>\n",
       "      <td>0.000000</td>\n",
       "      <td>173.90</td>\n",
       "      <td>5.486041</td>\n",
       "      <td>...</td>\n",
       "      <td>Mid Term</td>\n",
       "      <td>0.000000</td>\n",
       "      <td>Single Purchase</td>\n",
       "      <td>0</td>\n",
       "      <td>New Buyer</td>\n",
       "      <td>No Return</td>\n",
       "      <td>240.300000</td>\n",
       "      <td>8.010000</td>\n",
       "      <td>0.000000</td>\n",
       "      <td>2.198335</td>\n",
       "    </tr>\n",
       "    <tr>\n",
       "      <th>2707</th>\n",
       "      <td>307.55</td>\n",
       "      <td>1</td>\n",
       "      <td>149.00</td>\n",
       "      <td>20</td>\n",
       "      <td>0.000000</td>\n",
       "      <td>Flag</td>\n",
       "      <td>0</td>\n",
       "      <td>0.013245</td>\n",
       "      <td>180.60</td>\n",
       "      <td>5.731884</td>\n",
       "      <td>...</td>\n",
       "      <td>Recent</td>\n",
       "      <td>0.000000</td>\n",
       "      <td>Single Purchase</td>\n",
       "      <td>0</td>\n",
       "      <td>New Buyer</td>\n",
       "      <td>Occasional Returner</td>\n",
       "      <td>307.550000</td>\n",
       "      <td>15.377500</td>\n",
       "      <td>0.000000</td>\n",
       "      <td>2.795908</td>\n",
       "    </tr>\n",
       "    <tr>\n",
       "      <th>2708</th>\n",
       "      <td>120.32</td>\n",
       "      <td>1</td>\n",
       "      <td>92.00</td>\n",
       "      <td>203</td>\n",
       "      <td>0.000000</td>\n",
       "      <td>Decreasing</td>\n",
       "      <td>1</td>\n",
       "      <td>0.000000</td>\n",
       "      <td>80.82</td>\n",
       "      <td>4.798432</td>\n",
       "      <td>...</td>\n",
       "      <td>Dormant</td>\n",
       "      <td>0.000000</td>\n",
       "      <td>Single Purchase</td>\n",
       "      <td>0</td>\n",
       "      <td>Decreasing</td>\n",
       "      <td>No Return</td>\n",
       "      <td>120.320000</td>\n",
       "      <td>0.592709</td>\n",
       "      <td>0.000000</td>\n",
       "      <td>0.465437</td>\n",
       "    </tr>\n",
       "    <tr>\n",
       "      <th>2709</th>\n",
       "      <td>641.77</td>\n",
       "      <td>6</td>\n",
       "      <td>56.00</td>\n",
       "      <td>8</td>\n",
       "      <td>1.192140</td>\n",
       "      <td>Increasing</td>\n",
       "      <td>0</td>\n",
       "      <td>0.000000</td>\n",
       "      <td>1880.93</td>\n",
       "      <td>6.465787</td>\n",
       "      <td>...</td>\n",
       "      <td>Very Recent</td>\n",
       "      <td>0.784878</td>\n",
       "      <td>Moderate</td>\n",
       "      <td>0</td>\n",
       "      <td>Increasing</td>\n",
       "      <td>No Return</td>\n",
       "      <td>106.961667</td>\n",
       "      <td>80.221250</td>\n",
       "      <td>0.198690</td>\n",
       "      <td>4.397177</td>\n",
       "    </tr>\n",
       "    <tr>\n",
       "      <th>2710</th>\n",
       "      <td>2345.71</td>\n",
       "      <td>4</td>\n",
       "      <td>356.75</td>\n",
       "      <td>8</td>\n",
       "      <td>2.238095</td>\n",
       "      <td>Increasing</td>\n",
       "      <td>0</td>\n",
       "      <td>0.001400</td>\n",
       "      <td>1837.28</td>\n",
       "      <td>7.760770</td>\n",
       "      <td>...</td>\n",
       "      <td>Very Recent</td>\n",
       "      <td>1.174985</td>\n",
       "      <td>Moderate</td>\n",
       "      <td>0</td>\n",
       "      <td>Increasing</td>\n",
       "      <td>Occasional Returner</td>\n",
       "      <td>586.427500</td>\n",
       "      <td>293.213750</td>\n",
       "      <td>0.559524</td>\n",
       "      <td>5.684307</td>\n",
       "    </tr>\n",
       "  </tbody>\n",
       "</table>\n",
       "<p>2711 rows × 29 columns</p>\n",
       "</div>"
      ],
      "text/plain": [
       "      TotalSpend  PurchaseFrequency  OrderHabit  Recency  AvgPurchaseGap  \\\n",
       "0         169.36                  2       12.00      155        5.130435   \n",
       "1         611.53                  1      509.00       30        0.000000   \n",
       "2         222.16                  1      373.00       64        0.000000   \n",
       "3        2671.14                  3      331.00       33        1.782178   \n",
       "4         343.80                  2       94.00        1        0.941176   \n",
       "...          ...                ...         ...      ...             ...   \n",
       "2706      240.30                  1       74.00       30        0.000000   \n",
       "2707      307.55                  1      149.00       20        0.000000   \n",
       "2708      120.32                  1       92.00      203        0.000000   \n",
       "2709      641.77                  6       56.00        8        1.192140   \n",
       "2710     2345.71                  4      356.75        8        2.238095   \n",
       "\n",
       "           Trend  PseudoChurn  ReturnRate       CLV  Log_TotalSpend  ...  \\\n",
       "0     Increasing            1    0.428571  77183.60        5.137914  ...   \n",
       "1           Flag            0    0.000000   4085.18        6.417598  ...   \n",
       "2     Increasing            0    0.000000   1797.24        5.407889  ...   \n",
       "3     Increasing            0    0.005010   1757.55        7.890635  ...   \n",
       "4           Flag            0    0.000000   1665.74        5.842965  ...   \n",
       "...          ...          ...         ...       ...             ...  ...   \n",
       "2706        Flag            0    0.000000    173.90        5.486041  ...   \n",
       "2707        Flag            0    0.013245    180.60        5.731884  ...   \n",
       "2708  Decreasing            1    0.000000     80.82        4.798432  ...   \n",
       "2709  Increasing            0    0.000000   1880.93        6.465787  ...   \n",
       "2710  Increasing            0    0.001400   1837.28        7.760770  ...   \n",
       "\n",
       "      Recency_QBin  Log_AvgPurchaseGap        Gap_Label  Churn  \\\n",
       "0          Dormant            1.813266       Occasional      0   \n",
       "1         Mid Term            0.000000  Single Purchase      0   \n",
       "2              Old            0.000000  Single Purchase      0   \n",
       "3         Mid Term            1.023234         Moderate      0   \n",
       "4      Very Recent            0.663294         Frequent      0   \n",
       "...            ...                 ...              ...    ...   \n",
       "2706      Mid Term            0.000000  Single Purchase      0   \n",
       "2707        Recent            0.000000  Single Purchase      0   \n",
       "2708       Dormant            0.000000  Single Purchase      0   \n",
       "2709   Very Recent            0.784878         Moderate      0   \n",
       "2710   Very Recent            1.174985         Moderate      0   \n",
       "\n",
       "       Trend_Refined         Return_Label  SpendPerOrder   SpendRate  \\\n",
       "0         Increasing        High Returner      84.680000    1.092645   \n",
       "1     Seasonal Buyer            No Return     611.530000   20.384333   \n",
       "2         Increasing            No Return     222.160000    3.471250   \n",
       "3         Increasing  Occasional Returner     890.380000   80.943636   \n",
       "4          New Buyer            No Return     171.900000  343.800000   \n",
       "...              ...                  ...            ...         ...   \n",
       "2706       New Buyer            No Return     240.300000    8.010000   \n",
       "2707       New Buyer  Occasional Returner     307.550000   15.377500   \n",
       "2708      Decreasing            No Return     120.320000    0.592709   \n",
       "2709      Increasing            No Return     106.961667   80.221250   \n",
       "2710      Increasing  Occasional Returner     586.427500  293.213750   \n",
       "\n",
       "     GapPerOrder Log_SpendRate  \n",
       "0       2.565217      0.738429  \n",
       "1       0.000000      3.062659  \n",
       "2       0.000000      1.497668  \n",
       "3       0.594059      4.406032  \n",
       "4       0.470588      5.842965  \n",
       "...          ...           ...  \n",
       "2706    0.000000      2.198335  \n",
       "2707    0.000000      2.795908  \n",
       "2708    0.000000      0.465437  \n",
       "2709    0.198690      4.397177  \n",
       "2710    0.559524      5.684307  \n",
       "\n",
       "[2711 rows x 29 columns]"
      ]
     },
     "execution_count": 109,
     "metadata": {},
     "output_type": "execute_result"
    }
   ],
   "source": [
    "dataCpy"
   ]
  },
  {
   "cell_type": "code",
   "execution_count": 110,
   "id": "0a7a1476",
   "metadata": {},
   "outputs": [],
   "source": [
    "dataCpy.to_csv('dataCpy.csv', index=False)"
   ]
  },
  {
   "cell_type": "code",
   "execution_count": 111,
   "id": "17f55757",
   "metadata": {},
   "outputs": [],
   "source": [
    "final_cols = [\n",
    "    'Log_TotalSpend',\n",
    "    'SpendPerOrder',\n",
    "    'SpendRate',\n",
    "    'GapPerOrder',\n",
    "    'Log_SpendRate',\n",
    "    'PurchaseFreq_Label',\n",
    "    'OrderHabit_Label', \n",
    "    'Log_OrderHabit', \n",
    "    'Recency_QBin',\n",
    "    'Log_AvgPurchaseGap', \n",
    "    'Gap_Label', \n",
    "    'Trend_Refined',\n",
    "    'Return_Label',\n",
    "    'Log_Recency',\n",
    "    'Churn',\n",
    "    'CLV'\n",
    "]\n",
    "\n",
    "data_final = dataCpy[final_cols]\n",
    "data_final.to_csv('model_data_final.csv', index=False)"
   ]
  },
  {
   "cell_type": "code",
   "execution_count": null,
   "id": "576a9fb0",
   "metadata": {},
   "outputs": [],
   "source": []
  }
 ],
 "metadata": {
  "kernelspec": {
   "display_name": "Python 3 (ipykernel)",
   "language": "python",
   "name": "python3"
  },
  "language_info": {
   "codemirror_mode": {
    "name": "ipython",
    "version": 3
   },
   "file_extension": ".py",
   "mimetype": "text/x-python",
   "name": "python",
   "nbconvert_exporter": "python",
   "pygments_lexer": "ipython3",
   "version": "3.11.5"
  }
 },
 "nbformat": 4,
 "nbformat_minor": 5
}
